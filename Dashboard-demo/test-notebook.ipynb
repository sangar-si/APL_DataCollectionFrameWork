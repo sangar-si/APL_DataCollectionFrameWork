{
 "cells": [
  {
   "cell_type": "code",
   "execution_count": 1,
   "metadata": {},
   "outputs": [],
   "source": [
    "import sqlite3\n",
    "import csv\n",
    "# import pandas as pd\n",
    "import numpy as np\n",
    "import pandas as pd"
   ]
  },
  {
   "cell_type": "code",
   "execution_count": 2,
   "metadata": {},
   "outputs": [],
   "source": [
    "class DataBaseInfo():\n",
    "    def __init__(self, tableName : str, schema : dict, cursor = None):\n",
    "        self.tableName = tableName\n",
    "        self.schema = schema\n",
    "        if (cursor):\n",
    "            self.createTable(cursor)\n",
    "\n",
    "\n",
    "    def createTable(self, cursor):\n",
    "        createTQuery = f\"CREATE TABLE IF NOT EXISTS {self.tableName} (\"\n",
    "        for field, type in self.schema.items():\n",
    "            createTQuery += f\" {field} {type},\"\n",
    "        createTQuery = createTQuery[:-1]\n",
    "        createTQuery += \");\"\n",
    "        if (cursor):\n",
    "            cursor.execute(createTQuery)\n",
    "        else:\n",
    "            print(createTQuery)\n",
    "\n",
    "    \n",
    "    def csvToDB(self, csv_file, cursor):\n",
    "        with open(csv_file, 'r', newline='', encoding='utf-8') as csvfile:\n",
    "            csv_reader = csv.reader(csvfile)\n",
    "            next(csv_reader)  # Skip header row if needed\n",
    "            if (cursor):\n",
    "                for i, row in enumerate(csv_reader):\n",
    "                    row = ([str(i+1)]+row[1:])\n",
    "                    insertQuery = f\"INSERT INTO my_table VALUES {tuple(row)}\"\n",
    "                    cursor.execute(insertQuery)\n",
    "            else:\n",
    "                for i, row in enumerate(csv_reader):\n",
    "                    row = ([str(i+1)]+row[1:])\n",
    "                    insertQuery = f\"INSERT INTO my_table VALUES {tuple(row)}\"\n",
    "                    print(insertQuery)\n",
    "\n",
    "    def csvToDF(self, csv_file):\n",
    "        self.df = pd.read_csv(csv_file)\n",
    "\n"
   ]
  },
  {
   "cell_type": "code",
   "execution_count": 51,
   "metadata": {},
   "outputs": [
    {
     "name": "stdout",
     "output_type": "stream",
     "text": [
      "CREATE TABLE IF NOT EXISTS my_table ( Name TEXT, Num INTEGER);\n"
     ]
    }
   ],
   "source": [
    "x = DataBaseInfo('my_table', {'Name':'TEXT', 'Num':'INTEGER'})"
   ]
  },
  {
   "cell_type": "code",
   "execution_count": 13,
   "metadata": {},
   "outputs": [],
   "source": [
    "def createTable(fields : dict, cursor = None, tableName = 'my_table'):\n",
    "    createTQuery = f\"CREATE TABLE IF NOT EXISTS {tableName} (\"\n",
    "    for field, type in fields.items():\n",
    "        createTQuery += f\" {field} {type},\"\n",
    "    createTQuery = createTQuery[:-1]\n",
    "    createTQuery += \");\"\n",
    "    if (cursor):\n",
    "        cursor.execute(createTQuery)\n",
    "    else:\n",
    "        print(createTQuery)"
   ]
  },
  {
   "cell_type": "code",
   "execution_count": 43,
   "metadata": {},
   "outputs": [],
   "source": [
    "def csvToDB(csv_file, cursor = None):\n",
    "    with open(csv_file, 'r', newline='', encoding='utf-8') as csvfile:\n",
    "        csv_reader = csv.reader(csvfile)\n",
    "        next(csv_reader)  # Skip header row if needed\n",
    "        if (cursor):\n",
    "            for i, row in enumerate(csv_reader):\n",
    "                row = ([str(i+1)]+row[1:])\n",
    "                insertQuery = f\"INSERT INTO my_table VALUES {tuple(row)}\"\n",
    "                cursor.execute(insertQuery)\n",
    "        else:\n",
    "            for i, row in enumerate(csv_reader):\n",
    "                row = ([str(i+1)]+row[1:])\n",
    "                insertQuery = f\"INSERT INTO my_table VALUES {tuple(row)}\"\n",
    "                print(insertQuery)\n",
    "                \n",
    "   "
   ]
  },
  {
   "cell_type": "code",
   "execution_count": 44,
   "metadata": {},
   "outputs": [
    {
     "data": {
      "text/plain": [
       "\"INSERT INTO inventory VALUES( '0507400331548','Lays Baked original chips',1,5.5,'Food')\""
      ]
     },
     "execution_count": 44,
     "metadata": {},
     "output_type": "execute_result"
    }
   ],
   "source": [
    "'''INSERT INTO inventory VALUES( '0507400331548','Lays Baked original chips',1,5.5,'Food')'''"
   ]
  },
  {
   "cell_type": "code",
   "execution_count": 45,
   "metadata": {},
   "outputs": [
    {
     "name": "stdout",
     "output_type": "stream",
     "text": [
      "CREATE TABLE IF NOT EXISTS my_table ( Name TEXT, Num INTEGER);\n"
     ]
    }
   ],
   "source": [
    "createTable({'Name':'TEXT', 'Num':'INTEGER'})"
   ]
  },
  {
   "cell_type": "code",
   "execution_count": 46,
   "metadata": {},
   "outputs": [
    {
     "name": "stdout",
     "output_type": "stream",
     "text": [
      "INSERT INTO my_table VALUES ('1', 'TSD-M101', 'WPB', '10/11/2023', '', '10/11/2023')\n",
      "INSERT INTO my_table VALUES ('2', 'TSD-M102', 'WPB', '10/29/2023', '', '10/29/2023')\n",
      "INSERT INTO my_table VALUES ('3', 'TSD-M103', 'WPB', '10/25/2023', '', '10/25/2023')\n",
      "INSERT INTO my_table VALUES ('4', 'TSD-M104', 'WPB', '10/4/2023', '', '10/4/2023')\n",
      "INSERT INTO my_table VALUES ('5', 'TSD-M105', 'WPB', '10/8/2023', '', '10/8/2023')\n",
      "INSERT INTO my_table VALUES ('6', 'TSD-M106', 'WPB', '10/2/2023', '', '10/2/2023')\n",
      "INSERT INTO my_table VALUES ('7', 'TSD-M107', 'WPB', '10/3/2023', '', '10/3/2023')\n",
      "INSERT INTO my_table VALUES ('8', 'TSD-M108', 'WPB', '10/2/2023', '', '10/2/2023')\n",
      "INSERT INTO my_table VALUES ('9', 'TSD-M109', 'WPB', '10/21/2023', '', '10/21/2023')\n",
      "INSERT INTO my_table VALUES ('10', 'TSD-M110', 'WPB', '10/18/2023', '10/20/2023', '10/20/2023')\n",
      "INSERT INTO my_table VALUES ('11', 'TSD-M111', 'WPB', '10/29/2023', '11/6/2023', '11/6/2023')\n",
      "INSERT INTO my_table VALUES ('12', 'TSD-M112', 'WPB', '10/19/2023', '10/25/2023', '10/25/2023')\n",
      "INSERT INTO my_table VALUES ('13', 'TSD-M113', 'WPB', '9/30/2023', '10/21/2023', '10/21/2023')\n",
      "INSERT INTO my_table VALUES ('14', 'TSD-M201', 'SPB', '10/1/2023', '10/20/2023', '')\n",
      "INSERT INTO my_table VALUES ('15', 'TSD-M202', 'SPB', '10/19/2023', '11/25/2023', '')\n",
      "INSERT INTO my_table VALUES ('16', 'TSD-M203', 'SPB', '10/8/2023', '', '10/8/2023')\n",
      "INSERT INTO my_table VALUES ('17', 'TSD-M204', 'SPB', '10/30/2023', '', '10/30/2023')\n",
      "INSERT INTO my_table VALUES ('18', 'TSD-M205', 'SPB', '10/15/2023', '', '10/15/2023')\n",
      "INSERT INTO my_table VALUES ('19', 'TSD-M206', 'SPB', '10/13/2023', '', '10/13/2023')\n",
      "INSERT INTO my_table VALUES ('20', 'TSD-M207', 'SPB', '10/26/2023', '', '10/26/2023')\n",
      "INSERT INTO my_table VALUES ('21', 'TSD-M208', 'SPB', '10/1/2023', '', '10/1/2023')\n",
      "INSERT INTO my_table VALUES ('22', 'TSD-M209', 'SPB', '10/1/2023', '10/16/2023', '10/16/2023')\n",
      "INSERT INTO my_table VALUES ('23', 'TSD-M210', 'SPB', '10/16/2023', '11/6/2023', '11/6/2023')\n",
      "INSERT INTO my_table VALUES ('24', 'TSD-M211', 'SPB', '10/10/2023', '11/10/2023', '11/10/2023')\n",
      "INSERT INTO my_table VALUES ('25', 'TSD-M212', 'SPB', '10/8/2023', '11/10/2023', '11/10/2023')\n",
      "INSERT INTO my_table VALUES ('26', 'TSD-M213', 'SPB', '10/24/2023', '11/15/2023', '11/15/2023')\n",
      "INSERT INTO my_table VALUES ('27', 'MIX-M101', 'WPB', '10/11/2023', '', '10/11/2023')\n",
      "INSERT INTO my_table VALUES ('28', 'MIX-M102', 'WPB', '10/7/2023', '', '10/7/2023')\n",
      "INSERT INTO my_table VALUES ('29', 'MIX-M103', 'WPB', '10/18/2023', '', '10/18/2023')\n",
      "INSERT INTO my_table VALUES ('30', 'MIX-M104', 'WPB', '10/14/2023', '', '10/14/2023')\n",
      "INSERT INTO my_table VALUES ('31', 'MIX-M105', 'WPB', '10/25/2023', '', '10/25/2023')\n",
      "INSERT INTO my_table VALUES ('32', 'MIX-M106', 'WPB', '10/14/2023', '', '10/14/2023')\n",
      "INSERT INTO my_table VALUES ('33', 'MIX-M107', 'WPB', '10/10/2023', '', '10/10/2023')\n",
      "INSERT INTO my_table VALUES ('34', 'MIX-M108', 'WPB', '10/19/2023', '', '10/19/2023')\n",
      "INSERT INTO my_table VALUES ('35', 'MIX-M109', 'WPB', '10/20/2023', '', '10/20/2023')\n",
      "INSERT INTO my_table VALUES ('36', 'MIX-M110', 'WPB', '10/28/2023', '', '10/28/2023')\n",
      "INSERT INTO my_table VALUES ('37', 'MIX-M111', 'WPB', '10/1/2023', '', '10/1/2023')\n",
      "INSERT INTO my_table VALUES ('38', 'MIX-M112', 'WPB', '10/5/2023', '', '10/5/2023')\n",
      "INSERT INTO my_table VALUES ('39', 'MIX-M113', 'WPB', '10/15/2023', '', '10/15/2023')\n",
      "INSERT INTO my_table VALUES ('40', 'MIX-M114', 'WPB', '10/26/2023', '', '10/26/2023')\n",
      "INSERT INTO my_table VALUES ('41', 'MIX-M115', 'WPB', '10/9/2023', '', '10/9/2023')\n",
      "INSERT INTO my_table VALUES ('42', 'MIX-M116', 'WPB', '10/29/2023', '', '10/29/2023')\n",
      "INSERT INTO my_table VALUES ('43', 'MIX-M117', 'WPB', '10/29/2023', '', '10/29/2023')\n",
      "INSERT INTO my_table VALUES ('44', 'MIX-M118', 'WPB', '10/20/2023', '', '10/20/2023')\n",
      "INSERT INTO my_table VALUES ('45', 'MIX-M119', 'WPB', '10/11/2023', '', '10/11/2023')\n",
      "INSERT INTO my_table VALUES ('46', 'MIX-M120', 'WPB', '10/3/2023', '', '10/3/2023')\n",
      "INSERT INTO my_table VALUES ('47', 'MIX-M121', 'WPB', '10/7/2023', '', '10/7/2023')\n",
      "INSERT INTO my_table VALUES ('48', 'MIX-M122', 'WPB', '10/8/2023', '', '10/8/2023')\n",
      "INSERT INTO my_table VALUES ('49', 'MIX-M123', 'WPB', '10/20/2023', '', '10/20/2023')\n",
      "INSERT INTO my_table VALUES ('50', 'MIX-M124', 'WPB', '10/22/2023', '', '10/22/2023')\n",
      "INSERT INTO my_table VALUES ('51', 'MIX-M125', 'WPB', '10/3/2023', '', '10/3/2023')\n",
      "INSERT INTO my_table VALUES ('52', 'MIX-M126', 'WPB', '10/7/2023', '', '10/7/2023')\n",
      "INSERT INTO my_table VALUES ('53', 'MIX-M127', 'WPB', '10/27/2023', '11/15/2023', '')\n",
      "INSERT INTO my_table VALUES ('54', 'MIX-M128', 'WPB', '10/5/2023', '11/3/2023', '')\n",
      "INSERT INTO my_table VALUES ('55', 'MIX-M129', 'WPB', '10/13/2023', '10/25/2023', '10/25/2023')\n",
      "INSERT INTO my_table VALUES ('56', 'MIX-M130', 'WPB', '10/10/2023', '10/25/2023', '10/25/2023')\n",
      "INSERT INTO my_table VALUES ('57', 'MIX-M131', 'WPB', '10/5/2023', '10/25/2023', '10/25/2023')\n",
      "INSERT INTO my_table VALUES ('58', 'MIX-M132', 'WPB', '10/17/2023', '10/19/2023', '')\n",
      "INSERT INTO my_table VALUES ('59', 'MIX-M133', 'WPB', '10/4/2023', '', '10/4/2023')\n",
      "INSERT INTO my_table VALUES ('60', 'MIX-M134', 'WPB', '10/2/2023', '', '10/2/2023')\n",
      "INSERT INTO my_table VALUES ('61', 'MIX-M135', 'WPB', '10/29/2023', '', '10/29/2023')\n",
      "INSERT INTO my_table VALUES ('62', 'MIX-M201', 'SPB', '10/6/2023', '', '10/6/2023')\n",
      "INSERT INTO my_table VALUES ('63', 'MIX-M202', 'SPB', '10/9/2023', '', '10/9/2023')\n",
      "INSERT INTO my_table VALUES ('64', 'MIX-M203', 'SPB', '10/28/2023', '', '10/28/2023')\n",
      "INSERT INTO my_table VALUES ('65', 'MIX-M204', 'SPB', '10/3/2023', '', '10/3/2023')\n",
      "INSERT INTO my_table VALUES ('66', 'MIX-M205', 'SPB', '10/1/2023', '', '10/1/2023')\n",
      "INSERT INTO my_table VALUES ('67', 'MIX-M206', 'SPB', '10/8/2023', '', '10/8/2023')\n",
      "INSERT INTO my_table VALUES ('68', 'MIX-M207', 'SPB', '10/19/2023', '', '10/19/2023')\n",
      "INSERT INTO my_table VALUES ('69', 'MIX-M208', 'SPB', '10/18/2023', '', '10/18/2023')\n",
      "INSERT INTO my_table VALUES ('70', 'MIX-M209', 'SPB', '10/2/2023', '', '10/2/2023')\n",
      "INSERT INTO my_table VALUES ('71', 'MIX-M210', 'SPB', '10/23/2023', '', '10/23/2023')\n",
      "INSERT INTO my_table VALUES ('72', 'MIX-M211', 'SPB', '10/24/2023', '', '10/24/2023')\n",
      "INSERT INTO my_table VALUES ('73', 'MIX-M212', 'SPB', '10/2/2023', '', '10/2/2023')\n",
      "INSERT INTO my_table VALUES ('74', 'MIX-M213', 'SPB', '10/15/2023', '', '10/15/2023')\n",
      "INSERT INTO my_table VALUES ('75', 'MIX-M214', 'SPB', '10/14/2023', '', '10/14/2023')\n",
      "INSERT INTO my_table VALUES ('76', 'MIX-M215', 'SPB', '10/29/2023', '', '10/29/2023')\n",
      "INSERT INTO my_table VALUES ('77', 'MIX-M216', 'SPB', '10/20/2023', '', '10/20/2023')\n",
      "INSERT INTO my_table VALUES ('78', 'MIX-M217', 'SPB', '10/20/2023', '', '10/20/2023')\n",
      "INSERT INTO my_table VALUES ('79', 'MIX-M218', 'SPB', '10/12/2023', '', '10/12/2023')\n",
      "INSERT INTO my_table VALUES ('80', 'MIX-M219', 'SPB', '10/1/2023', '11/30/2023', '')\n",
      "INSERT INTO my_table VALUES ('81', 'MIX-M220', 'SPB', '10/21/2023', '10/22/2023', '10/22/2023')\n",
      "INSERT INTO my_table VALUES ('82', 'MIX-M221', 'SPB', '10/15/2023', '10/19/2023', '10/19/2023')\n",
      "INSERT INTO my_table VALUES ('83', 'MIX-M222', 'SPB', '10/29/2023', '10/30/2023', '10/30/2023')\n",
      "INSERT INTO my_table VALUES ('84', 'MIX-M223', 'SPB', '10/27/2023', '11/9/2023', '11/9/2023')\n",
      "INSERT INTO my_table VALUES ('85', 'MIX-M224', 'SPB', '10/7/2023', '11/9/2023', '')\n",
      "INSERT INTO my_table VALUES ('86', 'MIX-M225', 'SPB', '10/22/2023', '', '10/22/2023')\n",
      "INSERT INTO my_table VALUES ('87', 'MIX-M226', 'SPB', '10/8/2023', '', '10/8/2023')\n",
      "INSERT INTO my_table VALUES ('88', 'MIX-M227', 'SPB', '10/24/2023', '', '10/24/2023')\n",
      "INSERT INTO my_table VALUES ('89', 'MIX-M228', 'SPB', '10/7/2023', '', '10/7/2023')\n",
      "INSERT INTO my_table VALUES ('90', 'MIX-M229', 'SPB', '10/23/2023', '', '10/23/2023')\n",
      "INSERT INTO my_table VALUES ('91', 'MIX-M230', 'SPB', '10/11/2023', '', '10/11/2023')\n",
      "INSERT INTO my_table VALUES ('92', 'MIX-M231', 'SPB', '10/25/2023', '', '10/25/2023')\n",
      "INSERT INTO my_table VALUES ('93', 'MIX-M232', 'SPB', '10/29/2023', '', '10/29/2023')\n",
      "INSERT INTO my_table VALUES ('94', 'MIX-M233', 'SPB', '10/12/2023', '', '10/12/2023')\n",
      "INSERT INTO my_table VALUES ('95', 'MIX-M234', 'SPB', '10/6/2023', '', '10/6/2023')\n",
      "INSERT INTO my_table VALUES ('96', 'MIX-M235', 'SPB', '10/7/2023', '', '10/7/2023')\n",
      "INSERT INTO my_table VALUES ('97', 'MIX-M236', 'SPB', '10/4/2023', '', '10/4/2023')\n",
      "INSERT INTO my_table VALUES ('98', 'MIX-M237', 'SPB', '10/8/2023', '', '10/8/2023')\n"
     ]
    }
   ],
   "source": [
    "csvToDB('./trial-data/test-data.csv')"
   ]
  },
  {
   "cell_type": "code",
   "execution_count": null,
   "metadata": {},
   "outputs": [],
   "source": []
  }
 ],
 "metadata": {
  "kernelspec": {
   "display_name": "Python 3",
   "language": "python",
   "name": "python3"
  },
  "language_info": {
   "codemirror_mode": {
    "name": "ipython",
    "version": 3
   },
   "file_extension": ".py",
   "mimetype": "text/x-python",
   "name": "python",
   "nbconvert_exporter": "python",
   "pygments_lexer": "ipython3",
   "version": "3.7.9"
  },
  "orig_nbformat": 4,
  "vscode": {
   "interpreter": {
    "hash": "aee8b7b246df8f9039afb4144a1f6fd8d2ca17a180786b69acc140d282b71a49"
   }
  }
 },
 "nbformat": 4,
 "nbformat_minor": 2
}
