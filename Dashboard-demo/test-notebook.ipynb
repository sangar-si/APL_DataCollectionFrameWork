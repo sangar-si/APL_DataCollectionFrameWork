{
 "cells": [
  {
   "cell_type": "code",
   "execution_count": 28,
   "metadata": {},
   "outputs": [],
   "source": [
    "import sqlite3\n",
    "import csv\n",
    "# import pandas as pd\n",
    "import numpy as np\n",
    "import pandas as pd\n",
    "import json"
   ]
  },
  {
   "cell_type": "code",
   "execution_count": 29,
   "metadata": {},
   "outputs": [],
   "source": [
    "class DataBaseInfo():\n",
    "    def __init__(self, tableName : str, schema : dict, cursor = None):\n",
    "        self.tableName = tableName\n",
    "        self.schema = schema\n",
    "        self.createTable(cursor)\n",
    "\n",
    "\n",
    "    def createTable(self, cursor):\n",
    "        createTQuery = f\"CREATE TABLE IF NOT EXISTS {self.tableName} (\"\n",
    "        for field, type in self.schema.items():\n",
    "            createTQuery += f\" {field} {type},\"\n",
    "        createTQuery = createTQuery[:-1]\n",
    "        createTQuery += \");\"\n",
    "        if (cursor):\n",
    "            cursor.execute(createTQuery)\n",
    "        else:\n",
    "            print(createTQuery)\n",
    "\n",
    "    \n",
    "    def csvToDB(self, csv_file, cursor):\n",
    "        with open(csv_file, 'r', newline='', encoding='utf-8') as csvfile:\n",
    "            csv_reader = csv.reader(csvfile)\n",
    "            next(csv_reader)  # Skip header row if needed\n",
    "            if (cursor):\n",
    "                for i, row in enumerate(csv_reader):\n",
    "                    row = ([str(i+1)]+row[1:])\n",
    "                    insertQuery = f\"INSERT INTO my_table VALUES {tuple(row)}\"\n",
    "                    cursor.execute(insertQuery)\n",
    "            else:\n",
    "                for i, row in enumerate(csv_reader):\n",
    "                    row = ([str(i+1)]+row[1:])\n",
    "                    insertQuery = f\"INSERT INTO my_table VALUES {tuple(row)}\"\n",
    "                    print(insertQuery)\n",
    "\n",
    "    def csvToDF(self, csv_file):\n",
    "        self.df = pd.read_csv(csv_file)\n",
    "\n"
   ]
  },
  {
   "cell_type": "code",
   "execution_count": 30,
   "metadata": {},
   "outputs": [
    {
     "ename": "AttributeError",
     "evalue": "'str' object has no attribute 'read'",
     "output_type": "error",
     "traceback": [
      "\u001b[0;31m---------------------------------------------------------------------------\u001b[0m",
      "\u001b[0;31mAttributeError\u001b[0m                            Traceback (most recent call last)",
      "\u001b[0;32m/var/folders/5m/v6_grhr12f1_3r1xjwtlzqkr0000gn/T/ipykernel_16479/570222378.py\u001b[0m in \u001b[0;36m<module>\u001b[0;34m\u001b[0m\n\u001b[0;32m----> 1\u001b[0;31m \u001b[0mschema_CCR\u001b[0m \u001b[0;34m=\u001b[0m \u001b[0mjson\u001b[0m\u001b[0;34m.\u001b[0m\u001b[0mload\u001b[0m\u001b[0;34m(\u001b[0m\u001b[0;34m\"schema_ccr.json\"\u001b[0m\u001b[0;34m)\u001b[0m\u001b[0;34m\u001b[0m\u001b[0;34m\u001b[0m\u001b[0m\n\u001b[0m",
      "\u001b[0;32m/Library/Frameworks/Python.framework/Versions/3.7/lib/python3.7/json/__init__.py\u001b[0m in \u001b[0;36mload\u001b[0;34m(fp, cls, object_hook, parse_float, parse_int, parse_constant, object_pairs_hook, **kw)\u001b[0m\n\u001b[1;32m    291\u001b[0m     \u001b[0mkwarg\u001b[0m\u001b[0;34m;\u001b[0m \u001b[0motherwise\u001b[0m\u001b[0;31m \u001b[0m\u001b[0;31m`\u001b[0m\u001b[0;31m`\u001b[0m\u001b[0mJSONDecoder\u001b[0m\u001b[0;31m`\u001b[0m\u001b[0;31m`\u001b[0m \u001b[0;32mis\u001b[0m \u001b[0mused\u001b[0m\u001b[0;34m.\u001b[0m\u001b[0;34m\u001b[0m\u001b[0;34m\u001b[0m\u001b[0m\n\u001b[1;32m    292\u001b[0m     \"\"\"\n\u001b[0;32m--> 293\u001b[0;31m     return loads(fp.read(),\n\u001b[0m\u001b[1;32m    294\u001b[0m         \u001b[0mcls\u001b[0m\u001b[0;34m=\u001b[0m\u001b[0mcls\u001b[0m\u001b[0;34m,\u001b[0m \u001b[0mobject_hook\u001b[0m\u001b[0;34m=\u001b[0m\u001b[0mobject_hook\u001b[0m\u001b[0;34m,\u001b[0m\u001b[0;34m\u001b[0m\u001b[0;34m\u001b[0m\u001b[0m\n\u001b[1;32m    295\u001b[0m         \u001b[0mparse_float\u001b[0m\u001b[0;34m=\u001b[0m\u001b[0mparse_float\u001b[0m\u001b[0;34m,\u001b[0m \u001b[0mparse_int\u001b[0m\u001b[0;34m=\u001b[0m\u001b[0mparse_int\u001b[0m\u001b[0;34m,\u001b[0m\u001b[0;34m\u001b[0m\u001b[0;34m\u001b[0m\u001b[0m\n",
      "\u001b[0;31mAttributeError\u001b[0m: 'str' object has no attribute 'read'"
     ]
    }
   ],
   "source": [
    "schema_CCR = json.load(\"schema_ccr.json\")"
   ]
  },
  {
   "cell_type": "code",
   "execution_count": 31,
   "metadata": {},
   "outputs": [],
   "source": [
    "schema_CCR = {\n",
    "    \"SNO\"               : \"INTEGER\",\n",
    "    \"CO_ID\"             : \"TEXT\",\n",
    "    \"CO_Date\"           : \"DATE\", \n",
    "    \"BLOCK\"             : \"TEXT\",\n",
    "    \"BLOCK_CODE\"        : \"TEXT\",\n",
    "    \"EQUIPMENT\"         : \"TEXT\",\n",
    "    \"EQUIPMENT_CODE\"    : \"TEXT\",\n",
    "    \"INSTRUMENT\"        : \"TEXT\",\n",
    "    \"INSTRUMENT_CODE\"   : \"TEXT\",\n",
    "    \"CO_STATUS\"         : \"TEXT\",\n",
    "    \"CALIB_CAT\"         : \"DATE\",\n",
    "    \"CALIB_SUMMARY\"     : \"TEXT\",\n",
    "    \"COMP_DATE\"         : \"DATE\",\n",
    "    \"COMP_BY\"           : \"TEXT\",\n",
    "    \"EXP_DATE_OF_CLOSURE\" : \"DATE\",\n",
    "    \"APPROVAL_STATUS\"   : \"TEXT\",\n",
    "    \"APPROVED_BY\"       : \"TEXT\",\n",
    "    \"DAYS_TO_COMP\"      : \"INTEGER\",\n",
    "    \"MONTH\"             : \"INTEGER\",\n",
    "    \"DATE\"              : \"INTEGER\",\n",
    "    \"MGR_RESP\"          : \"TEXT\",\n",
    "    \"SR_EXE_RESP\"       : \"TEXT\"\n",
    "}"
   ]
  },
  {
   "cell_type": "code",
   "execution_count": 3,
   "metadata": {},
   "outputs": [],
   "source": [
    "schema = {'SNO': 'INTEGER', 'EQUIPMENT':'TEXT', 'AREA' : 'TEXT', 'SCHEDULED_DATE' : 'DATE', 'RESCHEDULED' : 'DATE', 'COMPLETED_ON' : 'DATE',}"
   ]
  },
  {
   "cell_type": "code",
   "execution_count": 4,
   "metadata": {},
   "outputs": [],
   "source": [
    "conn = sqlite3.connect('my_database.db')\n",
    "cursor = conn.cursor()"
   ]
  },
  {
   "cell_type": "code",
   "execution_count": 5,
   "metadata": {},
   "outputs": [],
   "source": [
    "dbObj = DataBaseInfo('my_table', schema = schema, cursor=cursor)"
   ]
  },
  {
   "cell_type": "code",
   "execution_count": 6,
   "metadata": {},
   "outputs": [],
   "source": [
    "dbObj.csvToDB('./trial-data/test-data.csv', cursor = cursor)"
   ]
  },
  {
   "cell_type": "code",
   "execution_count": 7,
   "metadata": {},
   "outputs": [],
   "source": [
    "dbObj.csvToDF('./trial-data/test-data.csv')"
   ]
  },
  {
   "cell_type": "code",
   "execution_count": 8,
   "metadata": {},
   "outputs": [
    {
     "data": {
      "text/html": [
       "<div>\n",
       "<style scoped>\n",
       "    .dataframe tbody tr th:only-of-type {\n",
       "        vertical-align: middle;\n",
       "    }\n",
       "\n",
       "    .dataframe tbody tr th {\n",
       "        vertical-align: top;\n",
       "    }\n",
       "\n",
       "    .dataframe thead th {\n",
       "        text-align: right;\n",
       "    }\n",
       "</style>\n",
       "<table border=\"1\" class=\"dataframe\">\n",
       "  <thead>\n",
       "    <tr style=\"text-align: right;\">\n",
       "      <th></th>\n",
       "      <th>Index</th>\n",
       "      <th>Equipment</th>\n",
       "      <th>Area</th>\n",
       "      <th>Scheduled-Date</th>\n",
       "      <th>Rescheduled</th>\n",
       "      <th>Completed-on</th>\n",
       "    </tr>\n",
       "  </thead>\n",
       "  <tbody>\n",
       "    <tr>\n",
       "      <th>0</th>\n",
       "      <td>NaN</td>\n",
       "      <td>TSD-M101</td>\n",
       "      <td>WPB</td>\n",
       "      <td>10/11/2023</td>\n",
       "      <td>NaN</td>\n",
       "      <td>10/11/2023</td>\n",
       "    </tr>\n",
       "    <tr>\n",
       "      <th>1</th>\n",
       "      <td>NaN</td>\n",
       "      <td>TSD-M102</td>\n",
       "      <td>WPB</td>\n",
       "      <td>10/29/2023</td>\n",
       "      <td>NaN</td>\n",
       "      <td>10/29/2023</td>\n",
       "    </tr>\n",
       "    <tr>\n",
       "      <th>2</th>\n",
       "      <td>NaN</td>\n",
       "      <td>TSD-M103</td>\n",
       "      <td>WPB</td>\n",
       "      <td>10/25/2023</td>\n",
       "      <td>NaN</td>\n",
       "      <td>10/25/2023</td>\n",
       "    </tr>\n",
       "    <tr>\n",
       "      <th>3</th>\n",
       "      <td>NaN</td>\n",
       "      <td>TSD-M104</td>\n",
       "      <td>WPB</td>\n",
       "      <td>10/4/2023</td>\n",
       "      <td>NaN</td>\n",
       "      <td>10/4/2023</td>\n",
       "    </tr>\n",
       "    <tr>\n",
       "      <th>4</th>\n",
       "      <td>NaN</td>\n",
       "      <td>TSD-M105</td>\n",
       "      <td>WPB</td>\n",
       "      <td>10/8/2023</td>\n",
       "      <td>NaN</td>\n",
       "      <td>10/8/2023</td>\n",
       "    </tr>\n",
       "  </tbody>\n",
       "</table>\n",
       "</div>"
      ],
      "text/plain": [
       "   Index Equipment Area Scheduled-Date Rescheduled Completed-on\n",
       "0    NaN  TSD-M101  WPB     10/11/2023         NaN   10/11/2023\n",
       "1    NaN  TSD-M102  WPB     10/29/2023         NaN   10/29/2023\n",
       "2    NaN  TSD-M103  WPB     10/25/2023         NaN   10/25/2023\n",
       "3    NaN  TSD-M104  WPB      10/4/2023         NaN    10/4/2023\n",
       "4    NaN  TSD-M105  WPB      10/8/2023         NaN    10/8/2023"
      ]
     },
     "execution_count": 8,
     "metadata": {},
     "output_type": "execute_result"
    }
   ],
   "source": [
    "dbObj.df.head()"
   ]
  },
  {
   "cell_type": "code",
   "execution_count": 9,
   "metadata": {},
   "outputs": [
    {
     "data": {
      "text/plain": [
       "98"
      ]
     },
     "execution_count": 9,
     "metadata": {},
     "output_type": "execute_result"
    }
   ],
   "source": [
    "len(dbObj.df)"
   ]
  },
  {
   "cell_type": "code",
   "execution_count": 10,
   "metadata": {},
   "outputs": [],
   "source": [
    "dff = dbObj.df.copy()"
   ]
  },
  {
   "cell_type": "code",
   "execution_count": 17,
   "metadata": {},
   "outputs": [],
   "source": [
    "dff['Scheduled-Date'] = pd.to_datetime(dff['Scheduled-Date'])\n",
    "dff['Rescheduled'] = pd.to_datetime(dff['Rescheduled'])\n",
    "dff['Completed-on'] = pd.to_datetime(dff['Completed-on'])"
   ]
  },
  {
   "cell_type": "code",
   "execution_count": 11,
   "metadata": {},
   "outputs": [],
   "source": [
    "def applyFilter(dbObj, filters : dict):\n",
    "    # Query from SQL\n",
    "    # filter dict {'field' : [lowerLimit, upperLimit]} both limits inclusive\n",
    "    df = dbObj.df \n",
    "    for field, limits in filters.item():\n",
    "        df = df[(df[field]>= limits[0]) & (df[field]<= limits[1])]\n",
    "    return df\n"
   ]
  },
  {
   "cell_type": "code",
   "execution_count": null,
   "metadata": {},
   "outputs": [],
   "source": []
  },
  {
   "cell_type": "code",
   "execution_count": 24,
   "metadata": {},
   "outputs": [],
   "source": [
    "def computeScheduleCompliance(df, meta : dict):\n",
    "    # meta['frequency'] = [daily, weekly, monthly, yearly]\n",
    "    # meta['metric'] = ['percentage']\n",
    "    # meta['KPI'] = ['calibration', 'PM'] (optional)\n",
    "    # add logic here\n",
    "    # returns json\n",
    "    result_json = {}\n",
    "    df['Scheduled-Date'] = pd.to_datetime(df['Scheduled-Date'])\n",
    "    df['Completed-on'] = pd.to_datetime(df['Completed-on'])\n",
    "\n",
    "    if meta['frequency'] == 'daily':\n",
    "        for month in df['Scheduled-Date'].dt.month.unique():\n",
    "            month = int(month)\n",
    "            if (month > 0):\n",
    "                df_temp = df[df['Scheduled-Date'].dt.month == month]\n",
    "                total = len(df_temp)\n",
    "                comp = len(df_temp[df_temp['Scheduled-Date'] == df_temp['Completed-on']])\n",
    "                result_json[month] = (comp/total) * 100    \n",
    "    elif meta['frequency'] == 'weekly':\n",
    "        pass\n",
    "    elif meta['frequency'] == 'monthly':\n",
    "        for year in df['Scheduled-Date'].dt.year.unique():\n",
    "            year = int(month)\n",
    "            df_temp = df[df['Scheduled-Date'].dt.year == year]\n",
    "            for month in df_temp['Scheduled-Date'].dt.month.unique():\n",
    "                month = int(month)\n",
    "                if (month > 0):\n",
    "                    df_temp = df_temp[df_temp['Scheduled-Date'].dt.month == month]\n",
    "                    total = len(df_temp)\n",
    "                    comp = len(df_temp[df_temp['Scheduled-Date'] == df_temp['Completed-on']])\n",
    "                    result_json[month] = (comp/total) * 100\n",
    "    elif meta['frequency'] == 'yearly':\n",
    "        pass\n",
    "    return json.dumps(result_json)\n"
   ]
  },
  {
   "cell_type": "code",
   "execution_count": 25,
   "metadata": {},
   "outputs": [
    {
     "data": {
      "text/html": [
       "<div>\n",
       "<style scoped>\n",
       "    .dataframe tbody tr th:only-of-type {\n",
       "        vertical-align: middle;\n",
       "    }\n",
       "\n",
       "    .dataframe tbody tr th {\n",
       "        vertical-align: top;\n",
       "    }\n",
       "\n",
       "    .dataframe thead th {\n",
       "        text-align: right;\n",
       "    }\n",
       "</style>\n",
       "<table border=\"1\" class=\"dataframe\">\n",
       "  <thead>\n",
       "    <tr style=\"text-align: right;\">\n",
       "      <th></th>\n",
       "      <th>Index</th>\n",
       "      <th>Equipment</th>\n",
       "      <th>Area</th>\n",
       "      <th>Scheduled-Date</th>\n",
       "      <th>Rescheduled</th>\n",
       "      <th>Completed-on</th>\n",
       "    </tr>\n",
       "  </thead>\n",
       "  <tbody>\n",
       "    <tr>\n",
       "      <th>0</th>\n",
       "      <td>NaN</td>\n",
       "      <td>TSD-M101</td>\n",
       "      <td>WPB</td>\n",
       "      <td>2023-10-11</td>\n",
       "      <td>NaN</td>\n",
       "      <td>2023-10-11</td>\n",
       "    </tr>\n",
       "    <tr>\n",
       "      <th>1</th>\n",
       "      <td>NaN</td>\n",
       "      <td>TSD-M102</td>\n",
       "      <td>WPB</td>\n",
       "      <td>2023-10-29</td>\n",
       "      <td>NaN</td>\n",
       "      <td>2023-10-29</td>\n",
       "    </tr>\n",
       "    <tr>\n",
       "      <th>2</th>\n",
       "      <td>NaN</td>\n",
       "      <td>TSD-M103</td>\n",
       "      <td>WPB</td>\n",
       "      <td>2023-10-25</td>\n",
       "      <td>NaN</td>\n",
       "      <td>2023-10-25</td>\n",
       "    </tr>\n",
       "    <tr>\n",
       "      <th>3</th>\n",
       "      <td>NaN</td>\n",
       "      <td>TSD-M104</td>\n",
       "      <td>WPB</td>\n",
       "      <td>2023-10-04</td>\n",
       "      <td>NaN</td>\n",
       "      <td>2023-10-04</td>\n",
       "    </tr>\n",
       "    <tr>\n",
       "      <th>4</th>\n",
       "      <td>NaN</td>\n",
       "      <td>TSD-M105</td>\n",
       "      <td>WPB</td>\n",
       "      <td>2023-10-08</td>\n",
       "      <td>NaN</td>\n",
       "      <td>2023-10-08</td>\n",
       "    </tr>\n",
       "    <tr>\n",
       "      <th>...</th>\n",
       "      <td>...</td>\n",
       "      <td>...</td>\n",
       "      <td>...</td>\n",
       "      <td>...</td>\n",
       "      <td>...</td>\n",
       "      <td>...</td>\n",
       "    </tr>\n",
       "    <tr>\n",
       "      <th>93</th>\n",
       "      <td>NaN</td>\n",
       "      <td>MIX-M233</td>\n",
       "      <td>SPB</td>\n",
       "      <td>2023-10-12</td>\n",
       "      <td>NaN</td>\n",
       "      <td>2023-10-12</td>\n",
       "    </tr>\n",
       "    <tr>\n",
       "      <th>94</th>\n",
       "      <td>NaN</td>\n",
       "      <td>MIX-M234</td>\n",
       "      <td>SPB</td>\n",
       "      <td>2023-10-06</td>\n",
       "      <td>NaN</td>\n",
       "      <td>2023-10-06</td>\n",
       "    </tr>\n",
       "    <tr>\n",
       "      <th>95</th>\n",
       "      <td>NaN</td>\n",
       "      <td>MIX-M235</td>\n",
       "      <td>SPB</td>\n",
       "      <td>2023-10-07</td>\n",
       "      <td>NaN</td>\n",
       "      <td>2023-10-07</td>\n",
       "    </tr>\n",
       "    <tr>\n",
       "      <th>96</th>\n",
       "      <td>NaN</td>\n",
       "      <td>MIX-M236</td>\n",
       "      <td>SPB</td>\n",
       "      <td>2023-10-04</td>\n",
       "      <td>NaN</td>\n",
       "      <td>2023-10-04</td>\n",
       "    </tr>\n",
       "    <tr>\n",
       "      <th>97</th>\n",
       "      <td>NaN</td>\n",
       "      <td>MIX-M237</td>\n",
       "      <td>SPB</td>\n",
       "      <td>2023-10-08</td>\n",
       "      <td>NaN</td>\n",
       "      <td>2023-10-08</td>\n",
       "    </tr>\n",
       "  </tbody>\n",
       "</table>\n",
       "<p>98 rows × 6 columns</p>\n",
       "</div>"
      ],
      "text/plain": [
       "    Index Equipment Area Scheduled-Date Rescheduled Completed-on\n",
       "0     NaN  TSD-M101  WPB     2023-10-11         NaN   2023-10-11\n",
       "1     NaN  TSD-M102  WPB     2023-10-29         NaN   2023-10-29\n",
       "2     NaN  TSD-M103  WPB     2023-10-25         NaN   2023-10-25\n",
       "3     NaN  TSD-M104  WPB     2023-10-04         NaN   2023-10-04\n",
       "4     NaN  TSD-M105  WPB     2023-10-08         NaN   2023-10-08\n",
       "..    ...       ...  ...            ...         ...          ...\n",
       "93    NaN  MIX-M233  SPB     2023-10-12         NaN   2023-10-12\n",
       "94    NaN  MIX-M234  SPB     2023-10-06         NaN   2023-10-06\n",
       "95    NaN  MIX-M235  SPB     2023-10-07         NaN   2023-10-07\n",
       "96    NaN  MIX-M236  SPB     2023-10-04         NaN   2023-10-04\n",
       "97    NaN  MIX-M237  SPB     2023-10-08         NaN   2023-10-08\n",
       "\n",
       "[98 rows x 6 columns]"
      ]
     },
     "execution_count": 25,
     "metadata": {},
     "output_type": "execute_result"
    }
   ],
   "source": [
    "dff"
   ]
  },
  {
   "cell_type": "code",
   "execution_count": 26,
   "metadata": {},
   "outputs": [],
   "source": [
    "meta = {}\n",
    "meta['frequency'] = 'monthly'"
   ]
  },
  {
   "cell_type": "code",
   "execution_count": 27,
   "metadata": {},
   "outputs": [
    {
     "data": {
      "text/plain": [
       "'{\"10\": 77.31958762886599, \"9\": 0.0}'"
      ]
     },
     "execution_count": 27,
     "metadata": {},
     "output_type": "execute_result"
    }
   ],
   "source": [
    "computeScheduleCompliance(dff, meta=meta)"
   ]
  },
  {
   "cell_type": "code",
   "execution_count": null,
   "metadata": {},
   "outputs": [],
   "source": [
    "def computeDailyCompliance():\n",
    "    # add logic here\n",
    "    # returns json\n",
    "    return None"
   ]
  }
 ],
 "metadata": {
  "kernelspec": {
   "display_name": "Python 3",
   "language": "python",
   "name": "python3"
  },
  "language_info": {
   "codemirror_mode": {
    "name": "ipython",
    "version": 3
   },
   "file_extension": ".py",
   "mimetype": "text/x-python",
   "name": "python",
   "nbconvert_exporter": "python",
   "pygments_lexer": "ipython3",
   "version": "3.7.9"
  },
  "orig_nbformat": 4,
  "vscode": {
   "interpreter": {
    "hash": "aee8b7b246df8f9039afb4144a1f6fd8d2ca17a180786b69acc140d282b71a49"
   }
  }
 },
 "nbformat": 4,
 "nbformat_minor": 2
}
